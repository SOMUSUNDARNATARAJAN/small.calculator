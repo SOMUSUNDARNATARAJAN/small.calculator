{
 "cells": [
  {
   "cell_type": "code",
   "execution_count": 1,
   "id": "8ea6cebf",
   "metadata": {},
   "outputs": [],
   "source": [
    "from tkinter import *\n",
    "\n",
    "window=Tk()\n",
    "\n",
    "def add():\n",
    "    k=float(n1.get())+float(n2.get())\n",
    "    t1.delete(\"1.0\",END)\n",
    "    t1.insert(END,k)\n",
    "\n",
    "l1=Label(window,text=\"Enter a number :\",bg='orange',height=1,width=40)\n",
    "l1.grid(row=0,column=1)\n",
    "n1=StringVar()\n",
    "n2=StringVar()\n",
    "e1=Entry(window,textvariable=n1,bg=\"cyan\")\n",
    "e1.grid(row=1,column=1)\n",
    "e2=Entry(window,textvariable=n2,bg=\"cyan\")\n",
    "e2.grid(row=2,column=1)\n",
    "t1=Text(window,height=1,width=30,bg=\"cyan\")\n",
    "t1.grid(row=4,column=1)\n",
    "b1=Button(window,text='ADD',bg=\"yellow\",height=1,width=20,command=add)\n",
    "b1.grid(row=3,column=1)\n",
    "\n",
    "window.mainloop()"
   ]
  },
  {
   "cell_type": "code",
   "execution_count": null,
   "id": "c3aa10ec",
   "metadata": {},
   "outputs": [],
   "source": []
  },
  {
   "cell_type": "code",
   "execution_count": null,
   "id": "d565b6ee",
   "metadata": {},
   "outputs": [],
   "source": []
  },
  {
   "cell_type": "code",
   "execution_count": null,
   "id": "6760afe2",
   "metadata": {},
   "outputs": [],
   "source": []
  },
  {
   "cell_type": "code",
   "execution_count": null,
   "id": "e1911ae0",
   "metadata": {},
   "outputs": [],
   "source": []
  }
 ],
 "metadata": {
  "kernelspec": {
   "display_name": "Python 3",
   "language": "python",
   "name": "python3"
  },
  "language_info": {
   "codemirror_mode": {
    "name": "ipython",
    "version": 3
   },
   "file_extension": ".py",
   "mimetype": "text/x-python",
   "name": "python",
   "nbconvert_exporter": "python",
   "pygments_lexer": "ipython3",
   "version": "3.11.0"
  },
  "vscode": {
   "interpreter": {
    "hash": "1964ac4b737bf40504535d4fecf265926d18c9c07b96ff5f66affe90ba8797d9"
   }
  }
 },
 "nbformat": 4,
 "nbformat_minor": 5
}
